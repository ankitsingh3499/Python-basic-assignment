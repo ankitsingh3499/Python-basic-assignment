{
  "nbformat": 4,
  "nbformat_minor": 0,
  "metadata": {
    "colab": {
      "provenance": []
    },
    "kernelspec": {
      "name": "python3",
      "display_name": "Python 3"
    },
    "language_info": {
      "name": "python"
    }
  },
  "cells": [
    {
      "cell_type": "markdown",
      "source": [
        "Python Basics Question"
      ],
      "metadata": {
        "id": "EtyueXvwMu0S"
      }
    },
    {
      "cell_type": "markdown",
      "source": [
        "1. What is Python, and why is it popular?\n",
        ">- Python is a high-level, interpreted programming language known for its simplicity, readability, and versatility. It is popular because of its easy-to-learn syntax, vast libraries, strong community support, and wide applications in web development, data science, AI, automation, and more.\n",
        "\n",
        "\n",
        "\n",
        "\n",
        "\n",
        "\n",
        "\n",
        "\n"
      ],
      "metadata": {
        "id": "6RxjIehNM5cq"
      }
    },
    {
      "cell_type": "markdown",
      "source": [
        "2. What is an interpreter in Python?\n",
        ">- An interpreter in Python is a program that executes Python code line by line, converting it into machine-readable instructions. It allows for interactive execution, making debugging and development easier."
      ],
      "metadata": {
        "id": "lSenHGgINaI8"
      }
    },
    {
      "cell_type": "markdown",
      "source": [
        "3. What are pre-defined keywords in Python?\n",
        ">- Pre-defined keywords in Python are reserved words that have special meanings and cannot be used as variable names. Examples include `if`, `else`, `while`, `for`, `def`, `class`, and `return`. They define the syntax and structure of Python programs.\n"
      ],
      "metadata": {
        "id": "giZnQVILOIAN"
      }
    },
    {
      "cell_type": "markdown",
      "source": [
        "4. Can keywords be used as variable names?\n",
        ">- No, keywords cannot be used as variable names in Python because they are reserved for specific programming functions and syntax. Using a keyword as a variable name will result in a SyntaxError."
      ],
      "metadata": {
        "id": "Wl30tDJQPKhh"
      }
    },
    {
      "cell_type": "markdown",
      "source": [
        "5. What is mutability in Python?\n",
        ">- Mutability in Python refers to whether an object’s value can be changed after it is created.  \n",
        "\n",
        "- **Mutable objects**: Can be modified (e.g., `list`, `dict`, `set`).  \n",
        "- **Immutable objects**: Cannot be changed (e.g., `int`, `float`, `str`, `tuple`).  \n",
        "\n",
        "Mutable objects allow in-place modifications, while immutable ones require creating new objects for changes.\n"
      ],
      "metadata": {
        "id": "g0W_LF9MPdpG"
      }
    },
    {
      "cell_type": "markdown",
      "source": [
        "6. Why are lists mutable, but tuples are immutable?\n",
        ">- Lists are mutable because their elements can be modified, added, or removed after creation, making them flexible for dynamic operations. Tuples, on the other hand, are immutable, meaning their elements cannot be changed after creation. This immutability ensurs data integrity and allows tuples to be used as keys in dictionaries and for safe data storage.\n",
        "\n"
      ],
      "metadata": {
        "id": "Gp9ntFerPyPL"
      }
    },
    {
      "cell_type": "markdown",
      "source": [
        "7. What is the difference between “==” and “is” operators in Python?\n",
        ">- - **`==` (Equality Operator)**: Checks if the values of two objects are equal.  \n",
        "  ```python\n",
        "  a = [1, 2, 3]\n",
        "  b = [1, 2, 3]\n",
        "  print(a == b)  # True (values are the same)\n",
        "  ```\n",
        "\n",
        "- **`is` (Identity Operator)**: Checks if two objects refer to the same memory location.  \n",
        "  ```python\n",
        "  print(a is b)  # False (different objects in memory)\n",
        "  ```  \n",
        "In short, `==` compares values, while `is` checks object identity.\n"
      ],
      "metadata": {
        "id": "hLvDiioAQMUe"
      }
    },
    {
      "cell_type": "markdown",
      "source": [
        "8. What are logical operators in Python?\n",
        ">- Logical operators in Python are used to combine conditional statements. They return **True** or **False** based on the given conditions.  \n",
        "\n",
        "- **`and`** → Returns **True** if both conditions are true.  \n",
        "  ```python\n",
        "  print(5 > 2 and 10 > 5)  # True\n",
        "  ```\n",
        "\n",
        "- **`or`** → Returns **True** if at least one condition is true.  \n",
        "  ```python\n",
        "  print(5 > 10 or 10 > 5)  # True\n",
        "  ```\n",
        "\n",
        "- **`not`** → Reverses the boolean value.  \n",
        "  ```python\n",
        "  print(not (5 > 2))  # False\n",
        "  ```\n"
      ],
      "metadata": {
        "id": "pGsl1eB9RBiz"
      }
    },
    {
      "cell_type": "markdown",
      "source": [
        "9. What is type casting in Python?\n",
        ">- Type casting in Python is the process of converting one data type into another. It can be done using built-in functions:  \n",
        "\n",
        "- **Implicit Casting** (done automatically by Python)  \n",
        "  ```python\n",
        "  x = 5   # int  \n",
        "  y = 3.5 # float  \n",
        "  z = x + y  # Automatically converted to float (8.5)  \n",
        "  ```\n",
        "\n",
        "- **Explicit Casting** (done manually by the user)  \n",
        "  ```python\n",
        "  a = int(3.6)    # Converts float to int (3)  \n",
        "  b = float(5)    # Converts int to float (5.0)  \n",
        "  c = str(100)    # Converts int to string (\"100\")  \n",
        "  ```  \n",
        "It helps in ensuring compatibility between different data types.\n"
      ],
      "metadata": {
        "id": "18PRJGuVR0mZ"
      }
    },
    {
      "cell_type": "markdown",
      "source": [
        "10. What is the difference between implicit and explicit type casting?\n",
        ">-The difference between **implicit** and **explicit** type casting is:  \n",
        "\n",
        "- **Implicit Type Casting**: Done automatically by Python when converting a smaller data type to a larger one to avoid data loss.  \n",
        "  ```python\n",
        "  x = 5   # int  \n",
        "  y = 4.5 # float  \n",
        "  z = x + y  # Python converts x to float automatically (z = 9.5)  \n",
        "  ```\n",
        "\n",
        "- **Explicit Type Casting**: Done manually by the programmer using functions like `int()`, `float()`, or `str()`.  \n",
        "  ```python\n",
        "  a = int(3.8)   # Manually converts float to int (a = 3)  \n",
        "  b = str(100)   # Manually converts int to string (\"100\")  \n",
        "  ```  \n",
        "Implicit is automatic, while explicit requires manual conversion.\n"
      ],
      "metadata": {
        "id": "b9LdCJDYTMUD"
      }
    },
    {
      "cell_type": "markdown",
      "source": [
        "11. What is the purpose of conditional statements in Python?\n",
        ">- Conditional statements in Python control the flow of a program by executing different code blocks based on conditions. They help make decisions in a program.  \n",
        "\n",
        "Example:  \n",
        "```python\n",
        "x = 10  \n",
        "if x > 5:  \n",
        "    print(\"x is greater than 5\")  \n",
        "else:  \n",
        "    print(\"x is 5 or less\")  \n",
        "```\n",
        "**Purpose:**  \n",
        "- **`if`** → Checks a condition.  \n",
        "- **`elif`** → Checks another condition if the previous one is false.  \n",
        "- **`else`** → Runs if no conditions are met.  \n",
        "\n",
        "\n"
      ],
      "metadata": {
        "id": "OTXDDz1tUkeG"
      }
    },
    {
      "cell_type": "markdown",
      "source": [
        "12. How does the elif statement work?\n",
        ">- The **`elif`** statement in Python is used to check multiple conditions in a sequence. It works after an **`if`** statement and before an **`else`** statement. If the **`if`** condition is false, Python checks the **`elif`** condition. If it’s true, that block executes; otherwise, it moves to the next **`elif`** or **`else`**.  \n",
        "\n",
        "# Example:\n",
        "```python\n",
        "x = 10\n",
        "\n",
        "if x > 15:\n",
        "    print(\"x is greater than 15\")\n",
        "elif x > 5:\n",
        "    print(\"x is greater than 5 but not 15\")  # This runs\n",
        "else:\n",
        "    print(\"x is 5 or less\")\n",
        "```\n",
        "\n",
        "Here, since `x = 10`, the **`if`** condition is false, but the **`elif`** condition is true, so **\"x is greater than 5 but not 15\"** is printed.\n"
      ],
      "metadata": {
        "id": "UyNCwrgpVcI0"
      }
    },
    {
      "cell_type": "markdown",
      "source": [
        "13. What is the difference between for and while loops?\n",
        ">- The main difference between **`for`** and **`while`** loops in Python is how they iterate:  \n",
        "\n",
        "# **1. `for` Loop:**  \n",
        "- Used when the number of iterations is known.  \n",
        "- Iterates over a sequence (list, range, string, etc.).  \n",
        "- Example:  \n",
        "  ```python\n",
        "  for i in range(5):  \n",
        "      print(i)  # Prints 0 to 4  \n",
        "  ```\n",
        "\n",
        "# **2. `while` Loop:**  \n",
        "- Used when the number of iterations is unknown.  \n",
        "- Runs as long as a condition is `True`.  \n",
        "- Example:  \n",
        "  ```python\n",
        "  x = 0  \n",
        "  while x < 5:  \n",
        "      print(x)  \n",
        "      x += 1  # Prints 0 to 4  \n",
        "  ```\n",
        "\n",
        "**Use `for`** when iterating over a known range or collection.  \n",
        "**Use `while`** when looping until a condition is met.\n"
      ],
      "metadata": {
        "id": "QdmGlUzfV5kR"
      }
    },
    {
      "cell_type": "markdown",
      "source": [
        "14. Describe a scenario where a while loop is more suitable than a for loop?\n",
        ">- A **`while`** loop is more suitable when the number of iterations is **unknown** and depends on a condition.  \n",
        "\n",
        "# **Example Scenario:** User Input Validation  \n",
        "If we need to keep asking a user for a valid password until they enter the correct one:  \n",
        "```python\n",
        "password = \"python123\"\n",
        "user_input = \"\"\n",
        "\n",
        "while user_input != password:\n",
        "    user_input = input(\"Enter password: \")\n",
        "\n",
        "print(\"Access granted!\")\n",
        "```\n",
        "Here, we **don't know** how many attempts the user will take, making a **`while`** loop ideal."
      ],
      "metadata": {
        "id": "hSLsEM1yXns9"
      }
    },
    {
      "cell_type": "markdown",
      "source": [
        "# PRACTICAL QUESTION"
      ],
      "metadata": {
        "id": "C0yu9CcSYSKg"
      }
    },
    {
      "cell_type": "markdown",
      "source": [
        "1. Write a Python program to print \"Hello, World!\" ?\n"
      ],
      "metadata": {
        "id": "cnqy1reRYZqi"
      }
    },
    {
      "cell_type": "code",
      "source": [
        "x = \"Hello,World!\"\n",
        "print(x)"
      ],
      "metadata": {
        "colab": {
          "base_uri": "https://localhost:8080/"
        },
        "id": "BvfL5q5XYgy5",
        "outputId": "c94eae56-1142-45f3-adb9-5781af0293e5"
      },
      "execution_count": 1,
      "outputs": [
        {
          "output_type": "stream",
          "name": "stdout",
          "text": [
            "Hello,World!\n"
          ]
        }
      ]
    },
    {
      "cell_type": "markdown",
      "source": [
        "2. Write a Python program that displays your name and age?\n"
      ],
      "metadata": {
        "id": "I1jT1BMrY-hi"
      }
    },
    {
      "cell_type": "code",
      "source": [
        "name = input(\"Enter your name: \")\n",
        "age = input(\"Enter your age: \")\n",
        "result = \"My name is {} and I am {} year old\". format (name,age)\n",
        "print(result)"
      ],
      "metadata": {
        "colab": {
          "base_uri": "https://localhost:8080/"
        },
        "id": "033dMXhoZZJE",
        "outputId": "26339493-9f2c-4179-bc56-bb6d33a27e81"
      },
      "execution_count": 4,
      "outputs": [
        {
          "output_type": "stream",
          "name": "stdout",
          "text": [
            "Enter your name: ankit\n",
            "Enter your age: 27\n",
            "My name is ankit and I am 27 year old\n"
          ]
        }
      ]
    },
    {
      "cell_type": "markdown",
      "source": [
        "3. Write code to print all the pre-defined keywords in Python using the keyword library?\n"
      ],
      "metadata": {
        "id": "I_oPm834aovj"
      }
    },
    {
      "cell_type": "code",
      "source": [
        "import keyword\n",
        "print(keyword.kwlist)"
      ],
      "metadata": {
        "colab": {
          "base_uri": "https://localhost:8080/"
        },
        "id": "okKuor5Ua6Qm",
        "outputId": "d667a642-903a-4613-89af-be329305ddc1"
      },
      "execution_count": 5,
      "outputs": [
        {
          "output_type": "stream",
          "name": "stdout",
          "text": [
            "['False', 'None', 'True', 'and', 'as', 'assert', 'async', 'await', 'break', 'class', 'continue', 'def', 'del', 'elif', 'else', 'except', 'finally', 'for', 'from', 'global', 'if', 'import', 'in', 'is', 'lambda', 'nonlocal', 'not', 'or', 'pass', 'raise', 'return', 'try', 'while', 'with', 'yield']\n"
          ]
        }
      ]
    },
    {
      "cell_type": "markdown",
      "source": [
        "4. Write a program that checks if a given word is a Python keyword?\n"
      ],
      "metadata": {
        "id": "4fT2acHRbVSo"
      }
    },
    {
      "cell_type": "code",
      "source": [
        "import keyword\n",
        "word = input(\"while: \")\n",
        "if keyword.iskeyword(word):\n",
        "    print(f\"{word} is a Python keyword.\")\n",
        "else:\n",
        "    print(f\"{word} is not a Python keyword.\")\n"
      ],
      "metadata": {
        "colab": {
          "base_uri": "https://localhost:8080/"
        },
        "id": "dCFwTR4idEbg",
        "outputId": "f3d88025-ec2f-4d71-f17b-b8f0382c7993"
      },
      "execution_count": 10,
      "outputs": [
        {
          "output_type": "stream",
          "name": "stdout",
          "text": [
            "while: hello\n",
            "hello is not a Python keyword.\n"
          ]
        }
      ]
    },
    {
      "cell_type": "markdown",
      "source": [
        "5. Create a list and tuple in Python, and demonstrate how attempting to change an element works differently for each?"
      ],
      "metadata": {
        "id": "03gsXrr6dpKb"
      }
    },
    {
      "cell_type": "code",
      "source": [
        "#mutable\n",
        "my_list = [1, 2, 3,]\n",
        "print(\"original list:\", my_list)\n",
        "my_list[0] = 10\n",
        "print(\"modified list:\", my_list)\n",
        "\n",
        "#immutable\n",
        "my_tuple = (1, 2, 3)\n",
        "print(\"original tuple:\", my_tuple)"
      ],
      "metadata": {
        "colab": {
          "base_uri": "https://localhost:8080/"
        },
        "id": "VLznK1jXd9No",
        "outputId": "c14a7d10-76a3-4c48-ab12-d8407600bf00"
      },
      "execution_count": 11,
      "outputs": [
        {
          "output_type": "stream",
          "name": "stdout",
          "text": [
            "original list: [1, 2, 3]\n",
            "modified list: [10, 2, 3]\n",
            "original tuple: (1, 2, 3)\n"
          ]
        }
      ]
    },
    {
      "cell_type": "markdown",
      "source": [
        "6. Write a function to demonstrate the behavior of mutable and immutable arguments?\n"
      ],
      "metadata": {
        "id": "TnRqTgSIe7MA"
      }
    },
    {
      "cell_type": "code",
      "source": [
        "def modify_values(num, lst):\n",
        "    num += 11\n",
        "    print(\"Inside function (num):\", num)  # Change not reflected outside\n",
        "\n",
        "    # Trying to modify the list (mutable)\n",
        "    lst.append(4)\n",
        "    print(\"Inside function (list):\", lst)  # Change reflected outside\n",
        "\n",
        "# Initial values\n",
        "x = 5  # Immutable\n",
        "y = [1, 2, 3, 4]  # Mutable\n",
        "\n",
        "print(\"Before function call:\")\n",
        "print(\"x:\", x)\n",
        "print(\"y:\", y)\n",
        "\n",
        "modify_values(x, y)\n",
        "\n",
        "print(\"\\nAfter function call:\")\n",
        "print(\"x:\", x)  # Unchanged\n",
        "print(\"y:\", y)  # Changed\n"
      ],
      "metadata": {
        "colab": {
          "base_uri": "https://localhost:8080/"
        },
        "id": "ABFAOf1tgAQc",
        "outputId": "04b74079-e2f5-4b97-dabd-923e0dc6fa80"
      },
      "execution_count": 13,
      "outputs": [
        {
          "output_type": "stream",
          "name": "stdout",
          "text": [
            "Before function call:\n",
            "x: 5\n",
            "y: [1, 2, 3, 4]\n",
            "Inside function (num): 16\n",
            "Inside function (list): [1, 2, 3, 4, 4]\n",
            "\n",
            "After function call:\n",
            "x: 5\n",
            "y: [1, 2, 3, 4, 4]\n"
          ]
        }
      ]
    },
    {
      "cell_type": "markdown",
      "source": [
        "7. Write a function to demonstrate the behavior of mutable and immutable arguments?\n"
      ],
      "metadata": {
        "id": "tK1DbegwgbQE"
      }
    },
    {
      "cell_type": "code",
      "source": [
        "def demonstrate_mutability(immutable_var, mutable_var):\n",
        "    immutable_var += 10\n",
        "    print(\"Inside function (immutable_var):\", immutable_var)\n",
        "\n",
        "    mutable_var.append(4)\n",
        "    print(\"Inside function (mutable_var):\", mutable_var)\n",
        "\n",
        "# Initial values\n",
        "num = 5\n",
        "lst = [1, 2, 3]\n",
        "\n",
        "print(\"Before function call:\")\n",
        "print(\"num:\", num)\n",
        "print(\"lst:\", lst)\n",
        "\n",
        "# Call the function\n",
        "demonstrate_mutability(num, lst)\n",
        "\n",
        "print(\"\\nAfter function call:\")\n",
        "print(\"num:\", num)  # Unchanged (immutable)\n",
        "print(\"lst:\", lst)  # Changed (mutable)\n"
      ],
      "metadata": {
        "colab": {
          "base_uri": "https://localhost:8080/"
        },
        "id": "bPPK5glzgyJD",
        "outputId": "32ce55c9-3f03-4465-f34f-271af98b4e5f"
      },
      "execution_count": 15,
      "outputs": [
        {
          "output_type": "stream",
          "name": "stdout",
          "text": [
            "Before function call:\n",
            "num: 5\n",
            "lst: [1, 2, 3]\n",
            "Inside function (immutable_var): 15\n",
            "Inside function (mutable_var): [1, 2, 3, 4]\n",
            "\n",
            "After function call:\n",
            "num: 5\n",
            "lst: [1, 2, 3, 4]\n"
          ]
        }
      ]
    },
    {
      "cell_type": "markdown",
      "source": [
        "8. Write a program to demonstrate the use of logical operators?\n"
      ],
      "metadata": {
        "id": "F-hD744PhC38"
      }
    },
    {
      "cell_type": "code",
      "source": [
        "# Input values\n",
        "a = True\n",
        "b = False\n",
        "\n",
        "# Using 'and' operator\n",
        "print(\"a and b:\", a and b)  # False (Both must be True)\n",
        "\n",
        "# Using 'or' operator\n",
        "print(\"a or b:\", a or b)  # True (At least one must be True)\n",
        "\n",
        "# Using 'not' operator\n",
        "print(\"not a:\", not a)  # False (Reverses the value)\n",
        "print(\"not b:\", not b)  # True (Reverses the value)\n",
        "\n",
        "# Using logical operators with conditions\n",
        "x = 10\n",
        "y = 5\n",
        "\n",
        "print(\"\\n(x > 5 and y < 10):\", x > 5 and y < 10)  # True\n",
        "print(\"(x < 5 or y < 10):\", x < 5 or y < 10)  # True\n",
        "print(\"not (x == 10):\", not (x == 10))  # False\n"
      ],
      "metadata": {
        "colab": {
          "base_uri": "https://localhost:8080/"
        },
        "id": "YaboCGZmhIUM",
        "outputId": "71526cba-09d4-476d-be14-5e78d5ab2ed0"
      },
      "execution_count": 16,
      "outputs": [
        {
          "output_type": "stream",
          "name": "stdout",
          "text": [
            "a and b: False\n",
            "a or b: True\n",
            "not a: False\n",
            "not b: True\n",
            "\n",
            "(x > 5 and y < 10): True\n",
            "(x < 5 or y < 10): True\n",
            "not (x == 10): False\n"
          ]
        }
      ]
    },
    {
      "cell_type": "markdown",
      "source": [
        "9. Write a Python program to convert user input from string to integer, float, and boolean types?\n"
      ],
      "metadata": {
        "id": "QuPjQq9mh2GN"
      }
    },
    {
      "cell_type": "code",
      "source": [
        "user_input = input(\"Enter a value: \")\n",
        "\n",
        "# Convert to integer\n",
        "try:\n",
        "    int_value = int(user_input)\n",
        "    print(\"Integer:\", int_value)\n",
        "except ValueError:\n",
        "    print(\"Cannot convert to Integer.\")\n",
        "\n",
        "# Convert to float\n",
        "try:\n",
        "    float_value = float(user_input)\n",
        "    print(\"Float:\", float_value)\n",
        "except ValueError:\n",
        "    print(\"Cannot convert to Float.\")\n",
        "\n",
        "# Convert to boolean\n",
        "bool_value = bool(user_input)  # Empty string returns False, non-empty returns True\n",
        "print(\"Boolean:\", bool_value)\n"
      ],
      "metadata": {
        "colab": {
          "base_uri": "https://localhost:8080/"
        },
        "id": "lrfyQkM9h5VZ",
        "outputId": "c9e66934-0122-4587-e525-7b9778d04aa1"
      },
      "execution_count": 17,
      "outputs": [
        {
          "output_type": "stream",
          "name": "stdout",
          "text": [
            "Enter a value: 33\n",
            "Integer: 33\n",
            "Float: 33.0\n",
            "Boolean: True\n"
          ]
        }
      ]
    },
    {
      "cell_type": "markdown",
      "source": [
        "10.  Write code to demonstrate type casting with list elements?\n",
        "\n"
      ],
      "metadata": {
        "id": "srvMDM3ej-KY"
      }
    },
    {
      "cell_type": "code",
      "source": [
        "str_list = [\"11\", \"18.5\", \"33\", \"True\", \"False\"]\n",
        "\n",
        "# Convert elements to integer (where possible)\n",
        "int_list = [int(float(x)) if x.replace('.', '', 1).isdigit() else None for x in str_list]\n",
        "print(\"Integer List:\", int_list)\n",
        "\n",
        "# Convert elements to float\n",
        "float_list = [float(x) if x.replace('.', '', 1).isdigit() else None for x in str_list]\n",
        "print(\"Float List:\", float_list)\n",
        "\n",
        "# Convert elements to boolean\n",
        "bool_list = [bool(x) for x in str_list]\n",
        "print(\"Boolean List:\", bool_list)\n"
      ],
      "metadata": {
        "colab": {
          "base_uri": "https://localhost:8080/"
        },
        "id": "7xY6ybvOkE8w",
        "outputId": "406e16fa-37e4-410e-b53f-53fcb8ae5f67"
      },
      "execution_count": 18,
      "outputs": [
        {
          "output_type": "stream",
          "name": "stdout",
          "text": [
            "Integer List: [11, 18, 33, None, None]\n",
            "Float List: [11.0, 18.5, 33.0, None, None]\n",
            "Boolean List: [True, True, True, True, True]\n"
          ]
        }
      ]
    },
    {
      "cell_type": "markdown",
      "source": [
        "11. Write a program that checks if a number is positive, negative, or zero?\n"
      ],
      "metadata": {
        "id": "QJGdPaubkaeu"
      }
    },
    {
      "cell_type": "code",
      "source": [
        "# Get user input\n",
        "num = float(input(\"enter a number: \"))\n",
        "\n",
        "# Check conditions\n",
        "if num > 0:\n",
        "    print(\"The number is Positive.\")\n",
        "elif num < 0:\n",
        "    print(\"The number is Negative.\")\n",
        "else:\n",
        "    print(\"The number is Zero.\")\n"
      ],
      "metadata": {
        "colab": {
          "base_uri": "https://localhost:8080/"
        },
        "id": "ubmH4Cnakff-",
        "outputId": "5d290738-794a-48e2-99ed-c0b3286155b2"
      },
      "execution_count": 21,
      "outputs": [
        {
          "output_type": "stream",
          "name": "stdout",
          "text": [
            "enter a number: 33\n",
            "The number is Positive.\n"
          ]
        }
      ]
    },
    {
      "cell_type": "markdown",
      "source": [
        "12. Write a for loop to print numbers from 1 to 100?\n"
      ],
      "metadata": {
        "id": "HXuvd8d2lBks"
      }
    },
    {
      "cell_type": "code",
      "source": [
        "for num in range(1, 101):\n",
        "    print(num)"
      ],
      "metadata": {
        "colab": {
          "base_uri": "https://localhost:8080/"
        },
        "id": "FGIS_PkdlMzz",
        "outputId": "3336cfbb-bbf1-4e49-d3e9-d85e84151f3c"
      },
      "execution_count": 22,
      "outputs": [
        {
          "output_type": "stream",
          "name": "stdout",
          "text": [
            "1\n",
            "2\n",
            "3\n",
            "4\n",
            "5\n",
            "6\n",
            "7\n",
            "8\n",
            "9\n",
            "10\n",
            "11\n",
            "12\n",
            "13\n",
            "14\n",
            "15\n",
            "16\n",
            "17\n",
            "18\n",
            "19\n",
            "20\n",
            "21\n",
            "22\n",
            "23\n",
            "24\n",
            "25\n",
            "26\n",
            "27\n",
            "28\n",
            "29\n",
            "30\n",
            "31\n",
            "32\n",
            "33\n",
            "34\n",
            "35\n",
            "36\n",
            "37\n",
            "38\n",
            "39\n",
            "40\n",
            "41\n",
            "42\n",
            "43\n",
            "44\n",
            "45\n",
            "46\n",
            "47\n",
            "48\n",
            "49\n",
            "50\n",
            "51\n",
            "52\n",
            "53\n",
            "54\n",
            "55\n",
            "56\n",
            "57\n",
            "58\n",
            "59\n",
            "60\n",
            "61\n",
            "62\n",
            "63\n",
            "64\n",
            "65\n",
            "66\n",
            "67\n",
            "68\n",
            "69\n",
            "70\n",
            "71\n",
            "72\n",
            "73\n",
            "74\n",
            "75\n",
            "76\n",
            "77\n",
            "78\n",
            "79\n",
            "80\n",
            "81\n",
            "82\n",
            "83\n",
            "84\n",
            "85\n",
            "86\n",
            "87\n",
            "88\n",
            "89\n",
            "90\n",
            "91\n",
            "92\n",
            "93\n",
            "94\n",
            "95\n",
            "96\n",
            "97\n",
            "98\n",
            "99\n",
            "100\n"
          ]
        }
      ]
    },
    {
      "cell_type": "markdown",
      "source": [
        "13. Write a Python program to find the sum of all even numbers between 1 and 500?\n"
      ],
      "metadata": {
        "id": "VrY8S1LqlV2g"
      }
    },
    {
      "cell_type": "code",
      "source": [
        "sum_even = 0\n",
        "\n",
        "# Loop through even numbers from 2 to 500\n",
        "for num in range(2, 501, 2):  # Step of 2 ensures only even numbers are included\n",
        "    sum_even += num\n",
        "\n",
        "# Print the result\n",
        "print(\"Sum of all even numbers between 1 and 500:\", sum_even)\n"
      ],
      "metadata": {
        "colab": {
          "base_uri": "https://localhost:8080/"
        },
        "id": "kFNlz2JemrQx",
        "outputId": "9fd43f2e-ee37-48fa-bf1a-5ed47ac64da2"
      },
      "execution_count": 23,
      "outputs": [
        {
          "output_type": "stream",
          "name": "stdout",
          "text": [
            "Sum of all even numbers between 1 and 500: 62750\n"
          ]
        }
      ]
    },
    {
      "cell_type": "markdown",
      "source": [
        "14. Write a program to reverse a string using a while loop?\n"
      ],
      "metadata": {
        "id": "HRQEqxcRm7ur"
      }
    },
    {
      "cell_type": "code",
      "source": [
        "text = input(\"Enter a string: \")\n",
        "\n",
        "# Initialize variables\n",
        "reversed_text = \"\"\n",
        "index = len(text) - 1\n",
        "\n",
        "# Use while loop to reverse the string\n",
        "while index >= 0:\n",
        "    reversed_text += text[index]\n",
        "    index -= 1\n",
        "\n",
        "# Print the reversed string\n",
        "print(\"Reversed String:\", reversed_text)\n"
      ],
      "metadata": {
        "colab": {
          "base_uri": "https://localhost:8080/"
        },
        "id": "kjhS4YoLnRN0",
        "outputId": "afe2583d-fda9-4dfa-ba21-270ae0671479"
      },
      "execution_count": 25,
      "outputs": [
        {
          "output_type": "stream",
          "name": "stdout",
          "text": [
            "Enter a string: ankit\n",
            "Reversed String: tikna\n"
          ]
        }
      ]
    },
    {
      "cell_type": "markdown",
      "source": [
        "15. Write a Python program to calculate the factorial of a number provided by the user using a while loop?\n"
      ],
      "metadata": {
        "id": "r50g18l8nh1T"
      }
    },
    {
      "cell_type": "code",
      "source": [
        "num = int(input(\"Enter a number: \"))\n",
        "\n",
        "# Initialize factorial and counter\n",
        "factorial = 1\n",
        "i = num\n",
        "\n",
        "# Calculate factorial using while loop\n",
        "while i > 0:\n",
        "    factorial *= i\n",
        "    i -= 1  # Decrease counter\n",
        "\n",
        "# Print the result\n",
        "print(f\"Factorial of {num} is: {factorial}\")\n"
      ],
      "metadata": {
        "colab": {
          "base_uri": "https://localhost:8080/"
        },
        "id": "eIyGWSENoC7g",
        "outputId": "bdb9e1af-cef5-47ba-d77c-c5d5ab852700"
      },
      "execution_count": 27,
      "outputs": [
        {
          "output_type": "stream",
          "name": "stdout",
          "text": [
            "Enter a number: 5\n",
            "Factorial of 5 is: 120\n"
          ]
        }
      ]
    },
    {
      "cell_type": "code",
      "source": [],
      "metadata": {
        "id": "sxVi1wVroPWo"
      },
      "execution_count": null,
      "outputs": []
    }
  ]
}